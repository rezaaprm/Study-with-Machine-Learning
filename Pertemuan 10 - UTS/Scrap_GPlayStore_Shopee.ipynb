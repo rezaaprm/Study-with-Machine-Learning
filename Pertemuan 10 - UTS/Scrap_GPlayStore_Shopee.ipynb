{
 "cells": [
  {
   "cell_type": "code",
   "execution_count": 1,
   "metadata": {},
   "outputs": [],
   "source": [
    "!pip install -qq google-play-scraper"
   ]
  },
  {
   "cell_type": "code",
   "execution_count": 2,
   "metadata": {},
   "outputs": [],
   "source": [
    "import json\n",
    "import pandas as pd \n",
    "from tqdm import tqdm\n",
    "from google_play_scraper import Sort, reviews, app\n",
    "\n",
    "from pygments import highlight\n",
    "from pygments.lexers import JsonLexer\n",
    "from pygments.formatters import TerminalFormatter"
   ]
  },
  {
   "cell_type": "code",
   "execution_count": 3,
   "metadata": {},
   "outputs": [],
   "source": [
    "# Aplikasi Shopee\n",
    "app_id = 'com.shopee.id'"
   ]
  },
  {
   "cell_type": "code",
   "execution_count": 4,
   "metadata": {},
   "outputs": [
    {
     "name": "stdout",
     "output_type": "stream",
     "text": [
      "Mengambil informasi aplikasi Shopee...\n"
     ]
    }
   ],
   "source": [
    "# Scraping informasi aplikasi\n",
    "print(\"Mengambil informasi aplikasi Shopee...\")\n",
    "info = app(app_id, lang='id', country='id')\n",
    "del info['comments']  # Hapus komentar yang tidak diperlukan\n",
    "app_info_df = pd.DataFrame([info])"
   ]
  },
  {
   "cell_type": "code",
   "execution_count": 5,
   "metadata": {},
   "outputs": [
    {
     "name": "stdout",
     "output_type": "stream",
     "text": [
      "Mengambil ulasan aplikasi Shopee...\n"
     ]
    }
   ],
   "source": [
    "# Scraping ulasan aplikasi Shopee\n",
    "print(\"Mengambil ulasan aplikasi Shopee...\")\n",
    "app_reviews = []\n",
    "for score in range(1, 6):  # Skor ulasan 1-5\n",
    "    for sort_order in [Sort.MOST_RELEVANT, Sort.NEWEST]:\n",
    "        rvs, _ = reviews(\n",
    "            app_id,\n",
    "            lang='id',\n",
    "            country='id',\n",
    "            sort=sort_order,\n",
    "            count=200 if score == 3 else 100,\n",
    "            filter_score_with=score\n",
    "        )\n",
    "        for r in rvs:\n",
    "            r['sortOrder'] = 'most_relevant' if sort_order == Sort.MOST_RELEVANT else 'newest'\n",
    "            r['appId'] = app_id\n",
    "        app_reviews.extend(rvs)"
   ]
  },
  {
   "cell_type": "code",
   "execution_count": 6,
   "metadata": {},
   "outputs": [],
   "source": [
    "app_reviews_df = pd.DataFrame(app_reviews)"
   ]
  },
  {
   "cell_type": "code",
   "execution_count": 7,
   "metadata": {},
   "outputs": [],
   "source": [
    "app_info_df.to_csv('shopee_info.csv', index=False)"
   ]
  },
  {
   "cell_type": "code",
   "execution_count": 8,
   "metadata": {},
   "outputs": [],
   "source": [
    "app_reviews_df.to_csv('shopee_reviews.csv', index=False)\n"
   ]
  }
 ],
 "metadata": {
  "kernelspec": {
   "display_name": "base",
   "language": "python",
   "name": "python3"
  },
  "language_info": {
   "codemirror_mode": {
    "name": "ipython",
    "version": 3
   },
   "file_extension": ".py",
   "mimetype": "text/x-python",
   "name": "python",
   "nbconvert_exporter": "python",
   "pygments_lexer": "ipython3",
   "version": "3.12.4"
  }
 },
 "nbformat": 4,
 "nbformat_minor": 2
}
