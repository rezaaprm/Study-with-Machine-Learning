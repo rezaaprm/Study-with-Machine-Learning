{
 "cells": [
  {
   "cell_type": "code",
   "execution_count": 1,
   "metadata": {},
   "outputs": [],
   "source": [
    "# Library Get Dataset\n",
    "import yfinance as yf\n",
    "\n",
    "# Lib Load Dataset\n",
    "import numpy as np\n",
    "import pandas as pd\n",
    "\n",
    "pd.set_option('display.width', 1000)\n",
    "pd.set_option('display.max_columns', 1000)\n",
    "\n",
    "# Lib Load Data Visualization\n",
    "from matplotlib.dates import DateFormatter\n",
    "import matplotlib.pyplot as plt\n",
    "import seaborn as sns\n",
    "import plotly.express as px"
   ]
  },
  {
   "cell_type": "code",
   "execution_count": 2,
   "metadata": {},
   "outputs": [
    {
     "name": "stdout",
     "output_type": "stream",
     "text": [
      "                          Date      Open      High       Low     Close\n",
      "0    2015-01-01 00:00:00+00:00    320.43    320.43    314.00    314.25\n",
      "1    2015-01-02 00:00:00+00:00    314.08    315.84    313.57    315.03\n",
      "2    2015-01-03 00:00:00+00:00    314.85    315.15    281.08    281.08\n",
      "3    2015-01-04 00:00:00+00:00    281.15    287.23    257.61    264.20\n",
      "4    2015-01-05 00:00:00+00:00    265.08    278.34    265.08    274.47\n",
      "...                        ...       ...       ...       ...       ...\n",
      "3403 2024-04-26 00:00:00+00:00  64485.37  64789.66  63322.40  63755.32\n",
      "3404 2024-04-27 00:00:00+00:00  63750.99  63898.36  62424.72  63419.14\n",
      "3405 2024-04-28 00:00:00+00:00  63423.52  64321.48  62793.60  63113.23\n",
      "3406 2024-04-29 00:00:00+00:00  63106.36  64174.88  61795.46  63841.12\n",
      "3407 2024-04-30 00:00:00+00:00  63839.42  64703.33  59120.07  60636.86\n",
      "\n",
      "[3408 rows x 5 columns]\n"
     ]
    }
   ],
   "source": [
    "# Set Stock Price\n",
    "ticker = \"BTC-USD\"\n",
    "\n",
    "# Get Dataset from yfinance\n",
    "df = yf.Ticker(ticker).history(start=\"2015-01-01\", end=\"2024-05-01\").reset_index()\n",
    "\n",
    "# Set Feature OHLC\n",
    "df = df[[\"Date\", \"Open\", \"High\", \"Low\",\t\"Close\"]]\n",
    "print(np.round(df,2))"
   ]
  },
  {
   "cell_type": "code",
   "execution_count": 3,
   "metadata": {},
   "outputs": [
    {
     "name": "stdout",
     "output_type": "stream",
     "text": [
      "<class 'pandas.core.frame.DataFrame'>\n",
      "RangeIndex: 3408 entries, 0 to 3407\n",
      "Data columns (total 5 columns):\n",
      " #   Column  Non-Null Count  Dtype              \n",
      "---  ------  --------------  -----              \n",
      " 0   Date    3408 non-null   datetime64[ns, UTC]\n",
      " 1   Open    3408 non-null   float64            \n",
      " 2   High    3408 non-null   float64            \n",
      " 3   Low     3408 non-null   float64            \n",
      " 4   Close   3408 non-null   float64            \n",
      "dtypes: datetime64[ns, UTC](1), float64(4)\n",
      "memory usage: 133.3 KB\n"
     ]
    }
   ],
   "source": [
    "df.info()"
   ]
  },
  {
   "cell_type": "code",
   "execution_count": 4,
   "metadata": {},
   "outputs": [
    {
     "data": {
      "text/plain": [
       "0      2015-01-01 00:00:00+00:00\n",
       "1      2015-01-02 00:00:00+00:00\n",
       "2      2015-01-03 00:00:00+00:00\n",
       "3      2015-01-04 00:00:00+00:00\n",
       "4      2015-01-05 00:00:00+00:00\n",
       "                  ...           \n",
       "3403   2024-04-26 00:00:00+00:00\n",
       "3404   2024-04-27 00:00:00+00:00\n",
       "3405   2024-04-28 00:00:00+00:00\n",
       "3406   2024-04-29 00:00:00+00:00\n",
       "3407   2024-04-30 00:00:00+00:00\n",
       "Name: Date, Length: 3408, dtype: datetime64[ns, UTC]"
      ]
     },
     "execution_count": 4,
     "metadata": {},
     "output_type": "execute_result"
    }
   ],
   "source": [
    "df['Date']"
   ]
  },
  {
   "cell_type": "code",
   "execution_count": 5,
   "metadata": {},
   "outputs": [],
   "source": [
    "df['Date'] = pd.to_datetime(df['Date'])"
   ]
  },
  {
   "cell_type": "code",
   "execution_count": 6,
   "metadata": {},
   "outputs": [
    {
     "data": {
      "text/html": [
       "<div>\n",
       "<style scoped>\n",
       "    .dataframe tbody tr th:only-of-type {\n",
       "        vertical-align: middle;\n",
       "    }\n",
       "\n",
       "    .dataframe tbody tr th {\n",
       "        vertical-align: top;\n",
       "    }\n",
       "\n",
       "    .dataframe thead th {\n",
       "        text-align: right;\n",
       "    }\n",
       "</style>\n",
       "<table border=\"1\" class=\"dataframe\">\n",
       "  <thead>\n",
       "    <tr style=\"text-align: right;\">\n",
       "      <th></th>\n",
       "      <th>Open</th>\n",
       "      <th>High</th>\n",
       "      <th>Low</th>\n",
       "      <th>Close</th>\n",
       "    </tr>\n",
       "    <tr>\n",
       "      <th>Date</th>\n",
       "      <th></th>\n",
       "      <th></th>\n",
       "      <th></th>\n",
       "      <th></th>\n",
       "    </tr>\n",
       "  </thead>\n",
       "  <tbody>\n",
       "    <tr>\n",
       "      <th>2015-01-01 00:00:00+00:00</th>\n",
       "      <td>320.434998</td>\n",
       "      <td>320.434998</td>\n",
       "      <td>314.002991</td>\n",
       "      <td>314.248993</td>\n",
       "    </tr>\n",
       "    <tr>\n",
       "      <th>2015-01-02 00:00:00+00:00</th>\n",
       "      <td>314.079010</td>\n",
       "      <td>315.838989</td>\n",
       "      <td>313.565002</td>\n",
       "      <td>315.032013</td>\n",
       "    </tr>\n",
       "    <tr>\n",
       "      <th>2015-01-03 00:00:00+00:00</th>\n",
       "      <td>314.846008</td>\n",
       "      <td>315.149994</td>\n",
       "      <td>281.082001</td>\n",
       "      <td>281.082001</td>\n",
       "    </tr>\n",
       "    <tr>\n",
       "      <th>2015-01-04 00:00:00+00:00</th>\n",
       "      <td>281.145996</td>\n",
       "      <td>287.230011</td>\n",
       "      <td>257.612000</td>\n",
       "      <td>264.195007</td>\n",
       "    </tr>\n",
       "    <tr>\n",
       "      <th>2015-01-05 00:00:00+00:00</th>\n",
       "      <td>265.084015</td>\n",
       "      <td>278.341003</td>\n",
       "      <td>265.084015</td>\n",
       "      <td>274.473999</td>\n",
       "    </tr>\n",
       "    <tr>\n",
       "      <th>...</th>\n",
       "      <td>...</td>\n",
       "      <td>...</td>\n",
       "      <td>...</td>\n",
       "      <td>...</td>\n",
       "    </tr>\n",
       "    <tr>\n",
       "      <th>2024-04-26 00:00:00+00:00</th>\n",
       "      <td>64485.371094</td>\n",
       "      <td>64789.656250</td>\n",
       "      <td>63322.398438</td>\n",
       "      <td>63755.320312</td>\n",
       "    </tr>\n",
       "    <tr>\n",
       "      <th>2024-04-27 00:00:00+00:00</th>\n",
       "      <td>63750.988281</td>\n",
       "      <td>63898.363281</td>\n",
       "      <td>62424.718750</td>\n",
       "      <td>63419.140625</td>\n",
       "    </tr>\n",
       "    <tr>\n",
       "      <th>2024-04-28 00:00:00+00:00</th>\n",
       "      <td>63423.515625</td>\n",
       "      <td>64321.484375</td>\n",
       "      <td>62793.597656</td>\n",
       "      <td>63113.230469</td>\n",
       "    </tr>\n",
       "    <tr>\n",
       "      <th>2024-04-29 00:00:00+00:00</th>\n",
       "      <td>63106.363281</td>\n",
       "      <td>64174.878906</td>\n",
       "      <td>61795.457031</td>\n",
       "      <td>63841.121094</td>\n",
       "    </tr>\n",
       "    <tr>\n",
       "      <th>2024-04-30 00:00:00+00:00</th>\n",
       "      <td>63839.417969</td>\n",
       "      <td>64703.332031</td>\n",
       "      <td>59120.066406</td>\n",
       "      <td>60636.855469</td>\n",
       "    </tr>\n",
       "  </tbody>\n",
       "</table>\n",
       "<p>3408 rows × 4 columns</p>\n",
       "</div>"
      ],
      "text/plain": [
       "                                   Open          High           Low         Close\n",
       "Date                                                                             \n",
       "2015-01-01 00:00:00+00:00    320.434998    320.434998    314.002991    314.248993\n",
       "2015-01-02 00:00:00+00:00    314.079010    315.838989    313.565002    315.032013\n",
       "2015-01-03 00:00:00+00:00    314.846008    315.149994    281.082001    281.082001\n",
       "2015-01-04 00:00:00+00:00    281.145996    287.230011    257.612000    264.195007\n",
       "2015-01-05 00:00:00+00:00    265.084015    278.341003    265.084015    274.473999\n",
       "...                                 ...           ...           ...           ...\n",
       "2024-04-26 00:00:00+00:00  64485.371094  64789.656250  63322.398438  63755.320312\n",
       "2024-04-27 00:00:00+00:00  63750.988281  63898.363281  62424.718750  63419.140625\n",
       "2024-04-28 00:00:00+00:00  63423.515625  64321.484375  62793.597656  63113.230469\n",
       "2024-04-29 00:00:00+00:00  63106.363281  64174.878906  61795.457031  63841.121094\n",
       "2024-04-30 00:00:00+00:00  63839.417969  64703.332031  59120.066406  60636.855469\n",
       "\n",
       "[3408 rows x 4 columns]"
      ]
     },
     "execution_count": 6,
     "metadata": {},
     "output_type": "execute_result"
    }
   ],
   "source": [
    "df = df.set_index('Date')\n",
    "df"
   ]
  },
  {
   "cell_type": "code",
   "execution_count": 7,
   "metadata": {},
   "outputs": [
    {
     "name": "stderr",
     "output_type": "stream",
     "text": [
      "C:\\Users\\lenovo\\AppData\\Local\\Temp\\ipykernel_4156\\3064680053.py:1: FutureWarning: 'M' is deprecated and will be removed in a future version, please use 'ME' instead.\n",
      "  df_month = df.asfreq(freq='M')\n"
     ]
    },
    {
     "data": {
      "text/html": [
       "<div>\n",
       "<style scoped>\n",
       "    .dataframe tbody tr th:only-of-type {\n",
       "        vertical-align: middle;\n",
       "    }\n",
       "\n",
       "    .dataframe tbody tr th {\n",
       "        vertical-align: top;\n",
       "    }\n",
       "\n",
       "    .dataframe thead th {\n",
       "        text-align: right;\n",
       "    }\n",
       "</style>\n",
       "<table border=\"1\" class=\"dataframe\">\n",
       "  <thead>\n",
       "    <tr style=\"text-align: right;\">\n",
       "      <th></th>\n",
       "      <th>Open</th>\n",
       "      <th>High</th>\n",
       "      <th>Low</th>\n",
       "      <th>Close</th>\n",
       "    </tr>\n",
       "    <tr>\n",
       "      <th>Date</th>\n",
       "      <th></th>\n",
       "      <th></th>\n",
       "      <th></th>\n",
       "      <th></th>\n",
       "    </tr>\n",
       "  </thead>\n",
       "  <tbody>\n",
       "    <tr>\n",
       "      <th>2015-01-31 00:00:00+00:00</th>\n",
       "      <td>226.440994</td>\n",
       "      <td>233.503998</td>\n",
       "      <td>216.309006</td>\n",
       "      <td>217.464005</td>\n",
       "    </tr>\n",
       "    <tr>\n",
       "      <th>2015-02-28 00:00:00+00:00</th>\n",
       "      <td>253.520004</td>\n",
       "      <td>254.692001</td>\n",
       "      <td>249.479004</td>\n",
       "      <td>254.263000</td>\n",
       "    </tr>\n",
       "    <tr>\n",
       "      <th>2015-03-31 00:00:00+00:00</th>\n",
       "      <td>247.453995</td>\n",
       "      <td>248.729996</td>\n",
       "      <td>242.738998</td>\n",
       "      <td>244.223999</td>\n",
       "    </tr>\n",
       "    <tr>\n",
       "      <th>2015-04-30 00:00:00+00:00</th>\n",
       "      <td>225.692993</td>\n",
       "      <td>239.563004</td>\n",
       "      <td>224.992996</td>\n",
       "      <td>236.145004</td>\n",
       "    </tr>\n",
       "    <tr>\n",
       "      <th>2015-05-31 00:00:00+00:00</th>\n",
       "      <td>233.134995</td>\n",
       "      <td>233.251999</td>\n",
       "      <td>229.542007</td>\n",
       "      <td>230.190002</td>\n",
       "    </tr>\n",
       "    <tr>\n",
       "      <th>...</th>\n",
       "      <td>...</td>\n",
       "      <td>...</td>\n",
       "      <td>...</td>\n",
       "      <td>...</td>\n",
       "    </tr>\n",
       "    <tr>\n",
       "      <th>2023-12-31 00:00:00+00:00</th>\n",
       "      <td>42152.097656</td>\n",
       "      <td>42860.937500</td>\n",
       "      <td>41998.253906</td>\n",
       "      <td>42265.187500</td>\n",
       "    </tr>\n",
       "    <tr>\n",
       "      <th>2024-01-31 00:00:00+00:00</th>\n",
       "      <td>42946.250000</td>\n",
       "      <td>43717.406250</td>\n",
       "      <td>42298.945312</td>\n",
       "      <td>42582.605469</td>\n",
       "    </tr>\n",
       "    <tr>\n",
       "      <th>2024-02-29 00:00:00+00:00</th>\n",
       "      <td>62499.183594</td>\n",
       "      <td>63585.644531</td>\n",
       "      <td>60498.730469</td>\n",
       "      <td>61198.382812</td>\n",
       "    </tr>\n",
       "    <tr>\n",
       "      <th>2024-03-31 00:00:00+00:00</th>\n",
       "      <td>69647.781250</td>\n",
       "      <td>71377.781250</td>\n",
       "      <td>69624.867188</td>\n",
       "      <td>71333.648438</td>\n",
       "    </tr>\n",
       "    <tr>\n",
       "      <th>2024-04-30 00:00:00+00:00</th>\n",
       "      <td>63839.417969</td>\n",
       "      <td>64703.332031</td>\n",
       "      <td>59120.066406</td>\n",
       "      <td>60636.855469</td>\n",
       "    </tr>\n",
       "  </tbody>\n",
       "</table>\n",
       "<p>112 rows × 4 columns</p>\n",
       "</div>"
      ],
      "text/plain": [
       "                                   Open          High           Low         Close\n",
       "Date                                                                             \n",
       "2015-01-31 00:00:00+00:00    226.440994    233.503998    216.309006    217.464005\n",
       "2015-02-28 00:00:00+00:00    253.520004    254.692001    249.479004    254.263000\n",
       "2015-03-31 00:00:00+00:00    247.453995    248.729996    242.738998    244.223999\n",
       "2015-04-30 00:00:00+00:00    225.692993    239.563004    224.992996    236.145004\n",
       "2015-05-31 00:00:00+00:00    233.134995    233.251999    229.542007    230.190002\n",
       "...                                 ...           ...           ...           ...\n",
       "2023-12-31 00:00:00+00:00  42152.097656  42860.937500  41998.253906  42265.187500\n",
       "2024-01-31 00:00:00+00:00  42946.250000  43717.406250  42298.945312  42582.605469\n",
       "2024-02-29 00:00:00+00:00  62499.183594  63585.644531  60498.730469  61198.382812\n",
       "2024-03-31 00:00:00+00:00  69647.781250  71377.781250  69624.867188  71333.648438\n",
       "2024-04-30 00:00:00+00:00  63839.417969  64703.332031  59120.066406  60636.855469\n",
       "\n",
       "[112 rows x 4 columns]"
      ]
     },
     "execution_count": 7,
     "metadata": {},
     "output_type": "execute_result"
    }
   ],
   "source": [
    "df_month = df.asfreq(freq='M')\n",
    "df_month"
   ]
  },
  {
   "cell_type": "code",
   "execution_count": 8,
   "metadata": {},
   "outputs": [
    {
     "name": "stderr",
     "output_type": "stream",
     "text": [
      "C:\\Users\\lenovo\\AppData\\Local\\Temp\\ipykernel_4156\\2472851957.py:1: FutureWarning: 'Y' is deprecated and will be removed in a future version, please use 'YE' instead.\n",
      "  df_year = df.asfreq(freq='Y')\n"
     ]
    },
    {
     "data": {
      "text/html": [
       "<div>\n",
       "<style scoped>\n",
       "    .dataframe tbody tr th:only-of-type {\n",
       "        vertical-align: middle;\n",
       "    }\n",
       "\n",
       "    .dataframe tbody tr th {\n",
       "        vertical-align: top;\n",
       "    }\n",
       "\n",
       "    .dataframe thead th {\n",
       "        text-align: right;\n",
       "    }\n",
       "</style>\n",
       "<table border=\"1\" class=\"dataframe\">\n",
       "  <thead>\n",
       "    <tr style=\"text-align: right;\">\n",
       "      <th></th>\n",
       "      <th>Open</th>\n",
       "      <th>High</th>\n",
       "      <th>Low</th>\n",
       "      <th>Close</th>\n",
       "    </tr>\n",
       "    <tr>\n",
       "      <th>Date</th>\n",
       "      <th></th>\n",
       "      <th></th>\n",
       "      <th></th>\n",
       "      <th></th>\n",
       "    </tr>\n",
       "  </thead>\n",
       "  <tbody>\n",
       "    <tr>\n",
       "      <th>2015-12-31 00:00:00+00:00</th>\n",
       "      <td>425.875000</td>\n",
       "      <td>432.920990</td>\n",
       "      <td>418.734985</td>\n",
       "      <td>430.566986</td>\n",
       "    </tr>\n",
       "    <tr>\n",
       "      <th>2016-12-31 00:00:00+00:00</th>\n",
       "      <td>960.627014</td>\n",
       "      <td>963.742981</td>\n",
       "      <td>947.236023</td>\n",
       "      <td>963.742981</td>\n",
       "    </tr>\n",
       "    <tr>\n",
       "      <th>2017-12-31 00:00:00+00:00</th>\n",
       "      <td>12897.700195</td>\n",
       "      <td>14377.400391</td>\n",
       "      <td>12755.599609</td>\n",
       "      <td>14156.400391</td>\n",
       "    </tr>\n",
       "    <tr>\n",
       "      <th>2018-12-31 00:00:00+00:00</th>\n",
       "      <td>3866.839111</td>\n",
       "      <td>3868.742920</td>\n",
       "      <td>3725.867432</td>\n",
       "      <td>3742.700439</td>\n",
       "    </tr>\n",
       "    <tr>\n",
       "      <th>2019-12-31 00:00:00+00:00</th>\n",
       "      <td>7294.438965</td>\n",
       "      <td>7335.290039</td>\n",
       "      <td>7169.777832</td>\n",
       "      <td>7193.599121</td>\n",
       "    </tr>\n",
       "    <tr>\n",
       "      <th>2020-12-31 00:00:00+00:00</th>\n",
       "      <td>28841.574219</td>\n",
       "      <td>29244.876953</td>\n",
       "      <td>28201.992188</td>\n",
       "      <td>29001.720703</td>\n",
       "    </tr>\n",
       "    <tr>\n",
       "      <th>2021-12-31 00:00:00+00:00</th>\n",
       "      <td>47169.371094</td>\n",
       "      <td>48472.527344</td>\n",
       "      <td>45819.953125</td>\n",
       "      <td>46306.445312</td>\n",
       "    </tr>\n",
       "    <tr>\n",
       "      <th>2022-12-31 00:00:00+00:00</th>\n",
       "      <td>16603.673828</td>\n",
       "      <td>16628.986328</td>\n",
       "      <td>16517.519531</td>\n",
       "      <td>16547.496094</td>\n",
       "    </tr>\n",
       "    <tr>\n",
       "      <th>2023-12-31 00:00:00+00:00</th>\n",
       "      <td>42152.097656</td>\n",
       "      <td>42860.937500</td>\n",
       "      <td>41998.253906</td>\n",
       "      <td>42265.187500</td>\n",
       "    </tr>\n",
       "  </tbody>\n",
       "</table>\n",
       "</div>"
      ],
      "text/plain": [
       "                                   Open          High           Low         Close\n",
       "Date                                                                             \n",
       "2015-12-31 00:00:00+00:00    425.875000    432.920990    418.734985    430.566986\n",
       "2016-12-31 00:00:00+00:00    960.627014    963.742981    947.236023    963.742981\n",
       "2017-12-31 00:00:00+00:00  12897.700195  14377.400391  12755.599609  14156.400391\n",
       "2018-12-31 00:00:00+00:00   3866.839111   3868.742920   3725.867432   3742.700439\n",
       "2019-12-31 00:00:00+00:00   7294.438965   7335.290039   7169.777832   7193.599121\n",
       "2020-12-31 00:00:00+00:00  28841.574219  29244.876953  28201.992188  29001.720703\n",
       "2021-12-31 00:00:00+00:00  47169.371094  48472.527344  45819.953125  46306.445312\n",
       "2022-12-31 00:00:00+00:00  16603.673828  16628.986328  16517.519531  16547.496094\n",
       "2023-12-31 00:00:00+00:00  42152.097656  42860.937500  41998.253906  42265.187500"
      ]
     },
     "execution_count": 8,
     "metadata": {},
     "output_type": "execute_result"
    }
   ],
   "source": [
    "df_year = df.asfreq(freq='Y')\n",
    "df_year"
   ]
  },
  {
   "cell_type": "code",
   "execution_count": 9,
   "metadata": {},
   "outputs": [
    {
     "name": "stdout",
     "output_type": "stream",
     "text": [
      "DatetimeIndexResampler [freq=<YearEnd: month=12>, axis=0, closed=right, label=right, convention=start, origin=start_day]\n"
     ]
    },
    {
     "name": "stderr",
     "output_type": "stream",
     "text": [
      "C:\\Users\\lenovo\\AppData\\Local\\Temp\\ipykernel_4156\\4002719877.py:1: FutureWarning: 'Y' is deprecated and will be removed in a future version, please use 'YE' instead.\n",
      "  print(df.resample('Y'))\n"
     ]
    }
   ],
   "source": [
    "print(df.resample('Y'))"
   ]
  },
  {
   "cell_type": "code",
   "execution_count": 10,
   "metadata": {},
   "outputs": [],
   "source": [
    "# df.Date.resample('Y').ffill()"
   ]
  },
  {
   "cell_type": "code",
   "execution_count": 11,
   "metadata": {},
   "outputs": [
    {
     "name": "stderr",
     "output_type": "stream",
     "text": [
      "C:\\Users\\lenovo\\AppData\\Local\\Temp\\ipykernel_4156\\3209348803.py:1: FutureWarning: 'Y' is deprecated and will be removed in a future version, please use 'YE' instead.\n",
      "  df_mean = df.Open.resample('Y').mean().ffill()\n"
     ]
    },
    {
     "data": {
      "text/plain": [
       "Date\n",
       "2015-12-31 00:00:00+00:00      272.149011\n",
       "2016-12-31 00:00:00+00:00      567.141429\n",
       "2017-12-31 00:00:00+00:00     3970.644848\n",
       "2018-12-31 00:00:00+00:00     7601.018680\n",
       "2019-12-31 00:00:00+00:00     7385.218456\n",
       "2020-12-31 00:00:00+00:00    11056.787201\n",
       "2021-12-31 00:00:00+00:00    47402.115662\n",
       "2022-12-31 00:00:00+00:00    28278.690293\n",
       "2023-12-31 00:00:00+00:00    28788.795848\n",
       "2024-12-31 00:00:00+00:00    56476.718298\n",
       "Freq: YE-DEC, Name: Open, dtype: float64"
      ]
     },
     "execution_count": 11,
     "metadata": {},
     "output_type": "execute_result"
    }
   ],
   "source": [
    "df_mean = df.Open.resample('Y').mean().ffill()\n",
    "df_mean"
   ]
  },
  {
   "cell_type": "code",
   "execution_count": 12,
   "metadata": {},
   "outputs": [
    {
     "data": {
      "text/plain": [
       "mean      19179.927973\n",
       "median     9328.902941\n",
       "std       20102.775415\n",
       "Name: Open, dtype: float64"
      ]
     },
     "execution_count": 12,
     "metadata": {},
     "output_type": "execute_result"
    }
   ],
   "source": [
    "df_mms = df_mean.agg(['mean','median','std'])\n",
    "df_mms"
   ]
  },
  {
   "cell_type": "code",
   "execution_count": 13,
   "metadata": {},
   "outputs": [],
   "source": [
    "df = df.resample(\"YE\").mean()\n",
    "df = np.round(df,2).reset_index()"
   ]
  },
  {
   "cell_type": "code",
   "execution_count": 14,
   "metadata": {},
   "outputs": [
    {
     "name": "stderr",
     "output_type": "stream",
     "text": [
      "No artists with labels found to put in legend.  Note that artists whose label start with an underscore are ignored when legend() is called with no argument.\n"
     ]
    },
    {
     "data": {
      "image/png": "[encoded data removed]",
      "text/plain": [
       "<Figure size 800x400 with 1 Axes>"
      ]
     },
     "metadata": {},
     "output_type": "display_data"
    }
   ],
   "source": [
    "fig, ax = plt.subplots(figsize = (8,4))\n",
    "sns.lineplot(data=df, x=\"Date\", y=\"Open\", marker='o', linewidth=2.5)\n",
    "\n",
    "# Set Labels\n",
    "ax.set_title(\"\", fontsize=12)\n",
    "ax.set_xlabel('', fontsize=12)\n",
    "ax.set_ylabel('', fontsize=12)\n",
    "ax.legend(loc=\"best\")\n",
    "ax.grid(True)\n",
    "\n",
    "plt.tight_layout()\n",
    "plt.show()"
   ]
  }
 ],
 "metadata": {
  "kernelspec": {
   "display_name": "base",
   "language": "python",
   "name": "python3"
  },
  "language_info": {
   "codemirror_mode": {
    "name": "ipython",
    "version": 3
   },
   "file_extension": ".py",
   "mimetype": "text/x-python",
   "name": "python",
   "nbconvert_exporter": "python",
   "pygments_lexer": "ipython3",
   "version": "3.11.7"
  }
 },
 "nbformat": 4,
 "nbformat_minor": 2
}
