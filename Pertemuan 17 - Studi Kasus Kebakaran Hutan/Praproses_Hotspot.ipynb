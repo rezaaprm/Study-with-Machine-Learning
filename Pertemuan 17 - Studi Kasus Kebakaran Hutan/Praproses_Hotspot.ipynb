{
 "cells": [
  {
   "cell_type": "markdown",
   "metadata": {},
   "source": [
    "## Preprocessing Data of Fire Forest on Indonesia from 2001 to 2023"
   ]
  },
  {
   "cell_type": "code",
   "execution_count": 1,
   "metadata": {},
   "outputs": [],
   "source": [
    "# Main Lib\n",
    "import pandas as pd \n",
    "import numpy as np \n",
    "\n",
    "pd.set_option('display.width', 1000)\n",
    "pd.set_option('display.max_columns', 1000)\n",
    "\n",
    "import matplotlib.pyplot as plt \n",
    "import seaborn as sns\n",
    "import plotly.express as px "
   ]
  },
  {
   "cell_type": "markdown",
   "metadata": {},
   "source": [
    "### Step 1. Data Acquisition"
   ]
  },
  {
   "cell_type": "code",
   "execution_count": 2,
   "metadata": {},
   "outputs": [
    {
     "name": "stdout",
     "output_type": "stream",
     "text": [
      "         latitude  longitude  brightness  scan  track   acq_date  acq_time satellite instrument  confidence  version  bright_t31   frp daynight  type\n",
      "0         -4.0082   121.7859       312.0   2.3    1.5 2001-01-01       258     Terra      MODIS          57     6.03       291.7  22.9        D     0\n",
      "1         -8.1135   112.9281       359.1   1.1    1.0 2001-01-01       259     Terra      MODIS          99     6.03       310.8  84.3        D     1\n",
      "2         -8.4164   117.5434       320.0   1.3    1.1 2001-01-01       259     Terra      MODIS          39     6.03       305.8  13.1        D     0\n",
      "3         -8.1127   112.9221       309.8   1.0    1.0 2001-01-01      1516     Terra      MODIS          78     6.03       276.7  13.3        N     1\n",
      "4         -6.9726   107.6152       314.3   1.4    1.2 2001-01-02       342     Terra      MODIS          62     6.03       284.7  11.4        D     2\n",
      "...           ...        ...         ...   ...    ...        ...       ...       ...        ...         ...      ...         ...   ...      ...   ...\n",
      "1490967   -3.9057   122.4212       315.8   1.0    1.0 2023-12-31      1352     Terra      MODIS          92    61.03       294.0  11.7        N     2\n",
      "1490968   -3.8727   122.3917       309.5   1.0    1.0 2023-12-31      1352     Terra      MODIS          78    61.03       294.2   6.9        N     2\n",
      "1490969    0.5582   123.9556       306.5   1.3    1.1 2023-12-31      1353     Terra      MODIS          68    61.03       292.0   8.5        N     0\n",
      "1490970    0.6945   117.5580       308.2   1.0    1.0 2023-12-31      1813      Aqua      MODIS          74    61.03       286.7   7.4        N     0\n",
      "1490971   -2.5734   121.3901       301.9   1.9    1.4 2023-12-31      1814      Aqua      MODIS          38    61.03       272.9  19.2        N     2\n",
      "\n",
      "[1490972 rows x 15 columns]\n"
     ]
    }
   ],
   "source": [
    "df_hotspot = pd.read_csv(\"../Dataset/DL_FIRE_M-C61_562233/fire_archive_M-C61_562233.csv\", parse_dates=[\"acq_date\"])\n",
    "print(df_hotspot)"
   ]
  },
  {
   "cell_type": "markdown",
   "metadata": {},
   "source": [
    "### Step 2. Praprocess Data"
   ]
  },
  {
   "cell_type": "markdown",
   "metadata": {},
   "source": [
    "- Function of Aggregation Daily"
   ]
  },
  {
   "cell_type": "code",
   "execution_count": 3,
   "metadata": {},
   "outputs": [],
   "source": [
    "## ==> Data Aggregation\n",
    "def hotspot_daily(df):\n",
    "\n",
    "    result = df.groupby([\"acq_date\"]).size().reset_index(name='hotspot')\n",
    "\n",
    "    result = result.set_index(\"acq_date\")\n",
    "\n",
    "    return result"
   ]
  },
  {
   "cell_type": "markdown",
   "metadata": {},
   "source": [
    "- Function of Monthly Aggregation"
   ]
  },
  {
   "cell_type": "code",
   "execution_count": 4,
   "metadata": {},
   "outputs": [],
   "source": [
    "# ## ==> Data Aggregation\n",
    "# def hotspot_monthly(df):\n",
    "\n",
    "#     result = df.groupby([\"acq_date\"]).size().reset_index(name='hotspot')\n",
    "\n",
    "#     result = result.set_index(\"acq_date\")\n",
    "\n",
    "#     result = result.resample('ME').sum()\n",
    "\n",
    "#     return result"
   ]
  },
  {
   "cell_type": "code",
   "execution_count": 5,
   "metadata": {},
   "outputs": [
    {
     "data": {
      "text/html": [
       "<div>\n",
       "<style scoped>\n",
       "    .dataframe tbody tr th:only-of-type {\n",
       "        vertical-align: middle;\n",
       "    }\n",
       "\n",
       "    .dataframe tbody tr th {\n",
       "        vertical-align: top;\n",
       "    }\n",
       "\n",
       "    .dataframe thead th {\n",
       "        text-align: right;\n",
       "    }\n",
       "</style>\n",
       "<table border=\"1\" class=\"dataframe\">\n",
       "  <thead>\n",
       "    <tr style=\"text-align: right;\">\n",
       "      <th></th>\n",
       "      <th>acq_date</th>\n",
       "      <th>hotspot</th>\n",
       "    </tr>\n",
       "  </thead>\n",
       "  <tbody>\n",
       "    <tr>\n",
       "      <th>0</th>\n",
       "      <td>2001-01-01</td>\n",
       "      <td>4</td>\n",
       "    </tr>\n",
       "    <tr>\n",
       "      <th>1</th>\n",
       "      <td>2001-01-02</td>\n",
       "      <td>1</td>\n",
       "    </tr>\n",
       "    <tr>\n",
       "      <th>2</th>\n",
       "      <td>2001-01-03</td>\n",
       "      <td>2</td>\n",
       "    </tr>\n",
       "    <tr>\n",
       "      <th>3</th>\n",
       "      <td>2001-01-04</td>\n",
       "      <td>1</td>\n",
       "    </tr>\n",
       "    <tr>\n",
       "      <th>4</th>\n",
       "      <td>2001-01-05</td>\n",
       "      <td>1</td>\n",
       "    </tr>\n",
       "    <tr>\n",
       "      <th>...</th>\n",
       "      <td>...</td>\n",
       "      <td>...</td>\n",
       "    </tr>\n",
       "    <tr>\n",
       "      <th>8301</th>\n",
       "      <td>2023-12-27</td>\n",
       "      <td>34</td>\n",
       "    </tr>\n",
       "    <tr>\n",
       "      <th>8302</th>\n",
       "      <td>2023-12-28</td>\n",
       "      <td>32</td>\n",
       "    </tr>\n",
       "    <tr>\n",
       "      <th>8303</th>\n",
       "      <td>2023-12-29</td>\n",
       "      <td>44</td>\n",
       "    </tr>\n",
       "    <tr>\n",
       "      <th>8304</th>\n",
       "      <td>2023-12-30</td>\n",
       "      <td>17</td>\n",
       "    </tr>\n",
       "    <tr>\n",
       "      <th>8305</th>\n",
       "      <td>2023-12-31</td>\n",
       "      <td>25</td>\n",
       "    </tr>\n",
       "  </tbody>\n",
       "</table>\n",
       "<p>8306 rows × 2 columns</p>\n",
       "</div>"
      ],
      "text/plain": [
       "       acq_date  hotspot\n",
       "0    2001-01-01        4\n",
       "1    2001-01-02        1\n",
       "2    2001-01-03        2\n",
       "3    2001-01-04        1\n",
       "4    2001-01-05        1\n",
       "...         ...      ...\n",
       "8301 2023-12-27       34\n",
       "8302 2023-12-28       32\n",
       "8303 2023-12-29       44\n",
       "8304 2023-12-30       17\n",
       "8305 2023-12-31       25\n",
       "\n",
       "[8306 rows x 2 columns]"
      ]
     },
     "execution_count": 5,
     "metadata": {},
     "output_type": "execute_result"
    }
   ],
   "source": [
    "dataset = hotspot_daily(df_hotspot)\n",
    "dataset = dataset.reset_index()\n",
    "dataset"
   ]
  },
  {
   "cell_type": "code",
   "execution_count": 6,
   "metadata": {},
   "outputs": [
    {
     "data": {
      "image/png": "[encoded data removed]",
      "text/plain": [
       "<Figure size 800x400 with 1 Axes>"
      ]
     },
     "metadata": {},
     "output_type": "display_data"
    }
   ],
   "source": [
    "fig, ax = plt.subplots(figsize=(8, 4))\n",
    "sns.lineplot(data=dataset, x=dataset[\"acq_date\"], y=dataset[\"hotspot\"])\n",
    "\n",
    "ax.set_title('Fire Forest on Indonesia from 2001 to 2023')\n",
    "ax.set_xlabel('Date')\n",
    "ax.set_ylabel('Frequency')\n",
    "# ax.legend(loc=\"best\")\n",
    "ax.grid(True)\n",
    "\n",
    "plt.tight_layout()\n",
    "plt.show()"
   ]
  },
  {
   "cell_type": "code",
   "execution_count": 7,
   "metadata": {},
   "outputs": [
    {
     "data": {
      "image/png": "[encoded data removed]",
      "text/plain": [
       "<Figure size 800x400 with 1 Axes>"
      ]
     },
     "metadata": {},
     "output_type": "display_data"
    }
   ],
   "source": [
    "fig, ax = plt.subplots(figsize=(8, 4))\n",
    "sns.histplot(data=dataset[\"hotspot\"], bins=30, kde=True)\n",
    "\n",
    "ax.set_title('Fire Forest Histogram from 2001 to 2023')\n",
    "ax.set_xlabel('Length')\n",
    "ax.set_ylabel('Frequency')\n",
    "# ax.legend(loc=\"best\")\n",
    "ax.grid(True)\n",
    "\n",
    "plt.tight_layout()\n",
    "plt.show()"
   ]
  },
  {
   "cell_type": "code",
   "execution_count": 8,
   "metadata": {},
   "outputs": [
    {
     "data": {
      "image/png": "[encoded data removed]",
      "text/plain": [
       "<Figure size 800x400 with 1 Axes>"
      ]
     },
     "metadata": {},
     "output_type": "display_data"
    }
   ],
   "source": [
    "fig, ax = plt.subplots(figsize=(8, 4))\n",
    "sns.boxplot(data=dataset, y=\"hotspot\")\n",
    "\n",
    "ax.set_title('Fire Forest Boxplot')\n",
    "ax.set_xlabel('Length')\n",
    "ax.set_ylabel('Frequency')\n",
    "# ax.legend(loc=\"best\")\n",
    "ax.grid(True)\n",
    "\n",
    "plt.tight_layout()\n",
    "plt.show()"
   ]
  },
  {
   "cell_type": "markdown",
   "metadata": {},
   "source": [
    "### Step 3. Export Dataset to CSV"
   ]
  },
  {
   "cell_type": "code",
   "execution_count": 9,
   "metadata": {},
   "outputs": [],
   "source": [
    "# dataset.to_csv(\"../Dataset/Hotspot_Monthly.csv\", index=None)"
   ]
  },
  {
   "cell_type": "code",
   "execution_count": 10,
   "metadata": {},
   "outputs": [
    {
     "data": {
      "text/html": [
       "<div>\n",
       "<style scoped>\n",
       "    .dataframe tbody tr th:only-of-type {\n",
       "        vertical-align: middle;\n",
       "    }\n",
       "\n",
       "    .dataframe tbody tr th {\n",
       "        vertical-align: top;\n",
       "    }\n",
       "\n",
       "    .dataframe thead th {\n",
       "        text-align: right;\n",
       "    }\n",
       "</style>\n",
       "<table border=\"1\" class=\"dataframe\">\n",
       "  <thead>\n",
       "    <tr style=\"text-align: right;\">\n",
       "      <th></th>\n",
       "      <th>latitude</th>\n",
       "      <th>longitude</th>\n",
       "      <th>brightness</th>\n",
       "      <th>scan</th>\n",
       "      <th>track</th>\n",
       "      <th>acq_date</th>\n",
       "      <th>acq_time</th>\n",
       "      <th>satellite</th>\n",
       "      <th>instrument</th>\n",
       "      <th>confidence</th>\n",
       "      <th>version</th>\n",
       "      <th>bright_t31</th>\n",
       "      <th>frp</th>\n",
       "      <th>daynight</th>\n",
       "      <th>type</th>\n",
       "    </tr>\n",
       "  </thead>\n",
       "  <tbody>\n",
       "    <tr>\n",
       "      <th>0</th>\n",
       "      <td>-4.0082</td>\n",
       "      <td>121.7859</td>\n",
       "      <td>312.0</td>\n",
       "      <td>2.3</td>\n",
       "      <td>1.5</td>\n",
       "      <td>2001-01-01</td>\n",
       "      <td>258</td>\n",
       "      <td>Terra</td>\n",
       "      <td>MODIS</td>\n",
       "      <td>57</td>\n",
       "      <td>6.03</td>\n",
       "      <td>291.7</td>\n",
       "      <td>22.9</td>\n",
       "      <td>D</td>\n",
       "      <td>0</td>\n",
       "    </tr>\n",
       "    <tr>\n",
       "      <th>1</th>\n",
       "      <td>-8.1135</td>\n",
       "      <td>112.9281</td>\n",
       "      <td>359.1</td>\n",
       "      <td>1.1</td>\n",
       "      <td>1.0</td>\n",
       "      <td>2001-01-01</td>\n",
       "      <td>259</td>\n",
       "      <td>Terra</td>\n",
       "      <td>MODIS</td>\n",
       "      <td>99</td>\n",
       "      <td>6.03</td>\n",
       "      <td>310.8</td>\n",
       "      <td>84.3</td>\n",
       "      <td>D</td>\n",
       "      <td>1</td>\n",
       "    </tr>\n",
       "    <tr>\n",
       "      <th>2</th>\n",
       "      <td>-8.4164</td>\n",
       "      <td>117.5434</td>\n",
       "      <td>320.0</td>\n",
       "      <td>1.3</td>\n",
       "      <td>1.1</td>\n",
       "      <td>2001-01-01</td>\n",
       "      <td>259</td>\n",
       "      <td>Terra</td>\n",
       "      <td>MODIS</td>\n",
       "      <td>39</td>\n",
       "      <td>6.03</td>\n",
       "      <td>305.8</td>\n",
       "      <td>13.1</td>\n",
       "      <td>D</td>\n",
       "      <td>0</td>\n",
       "    </tr>\n",
       "    <tr>\n",
       "      <th>3</th>\n",
       "      <td>-8.1127</td>\n",
       "      <td>112.9221</td>\n",
       "      <td>309.8</td>\n",
       "      <td>1.0</td>\n",
       "      <td>1.0</td>\n",
       "      <td>2001-01-01</td>\n",
       "      <td>1516</td>\n",
       "      <td>Terra</td>\n",
       "      <td>MODIS</td>\n",
       "      <td>78</td>\n",
       "      <td>6.03</td>\n",
       "      <td>276.7</td>\n",
       "      <td>13.3</td>\n",
       "      <td>N</td>\n",
       "      <td>1</td>\n",
       "    </tr>\n",
       "    <tr>\n",
       "      <th>4</th>\n",
       "      <td>-6.9726</td>\n",
       "      <td>107.6152</td>\n",
       "      <td>314.3</td>\n",
       "      <td>1.4</td>\n",
       "      <td>1.2</td>\n",
       "      <td>2001-01-02</td>\n",
       "      <td>342</td>\n",
       "      <td>Terra</td>\n",
       "      <td>MODIS</td>\n",
       "      <td>62</td>\n",
       "      <td>6.03</td>\n",
       "      <td>284.7</td>\n",
       "      <td>11.4</td>\n",
       "      <td>D</td>\n",
       "      <td>2</td>\n",
       "    </tr>\n",
       "    <tr>\n",
       "      <th>...</th>\n",
       "      <td>...</td>\n",
       "      <td>...</td>\n",
       "      <td>...</td>\n",
       "      <td>...</td>\n",
       "      <td>...</td>\n",
       "      <td>...</td>\n",
       "      <td>...</td>\n",
       "      <td>...</td>\n",
       "      <td>...</td>\n",
       "      <td>...</td>\n",
       "      <td>...</td>\n",
       "      <td>...</td>\n",
       "      <td>...</td>\n",
       "      <td>...</td>\n",
       "      <td>...</td>\n",
       "    </tr>\n",
       "    <tr>\n",
       "      <th>1490967</th>\n",
       "      <td>-3.9057</td>\n",
       "      <td>122.4212</td>\n",
       "      <td>315.8</td>\n",
       "      <td>1.0</td>\n",
       "      <td>1.0</td>\n",
       "      <td>2023-12-31</td>\n",
       "      <td>1352</td>\n",
       "      <td>Terra</td>\n",
       "      <td>MODIS</td>\n",
       "      <td>92</td>\n",
       "      <td>61.03</td>\n",
       "      <td>294.0</td>\n",
       "      <td>11.7</td>\n",
       "      <td>N</td>\n",
       "      <td>2</td>\n",
       "    </tr>\n",
       "    <tr>\n",
       "      <th>1490968</th>\n",
       "      <td>-3.8727</td>\n",
       "      <td>122.3917</td>\n",
       "      <td>309.5</td>\n",
       "      <td>1.0</td>\n",
       "      <td>1.0</td>\n",
       "      <td>2023-12-31</td>\n",
       "      <td>1352</td>\n",
       "      <td>Terra</td>\n",
       "      <td>MODIS</td>\n",
       "      <td>78</td>\n",
       "      <td>61.03</td>\n",
       "      <td>294.2</td>\n",
       "      <td>6.9</td>\n",
       "      <td>N</td>\n",
       "      <td>2</td>\n",
       "    </tr>\n",
       "    <tr>\n",
       "      <th>1490969</th>\n",
       "      <td>0.5582</td>\n",
       "      <td>123.9556</td>\n",
       "      <td>306.5</td>\n",
       "      <td>1.3</td>\n",
       "      <td>1.1</td>\n",
       "      <td>2023-12-31</td>\n",
       "      <td>1353</td>\n",
       "      <td>Terra</td>\n",
       "      <td>MODIS</td>\n",
       "      <td>68</td>\n",
       "      <td>61.03</td>\n",
       "      <td>292.0</td>\n",
       "      <td>8.5</td>\n",
       "      <td>N</td>\n",
       "      <td>0</td>\n",
       "    </tr>\n",
       "    <tr>\n",
       "      <th>1490970</th>\n",
       "      <td>0.6945</td>\n",
       "      <td>117.5580</td>\n",
       "      <td>308.2</td>\n",
       "      <td>1.0</td>\n",
       "      <td>1.0</td>\n",
       "      <td>2023-12-31</td>\n",
       "      <td>1813</td>\n",
       "      <td>Aqua</td>\n",
       "      <td>MODIS</td>\n",
       "      <td>74</td>\n",
       "      <td>61.03</td>\n",
       "      <td>286.7</td>\n",
       "      <td>7.4</td>\n",
       "      <td>N</td>\n",
       "      <td>0</td>\n",
       "    </tr>\n",
       "    <tr>\n",
       "      <th>1490971</th>\n",
       "      <td>-2.5734</td>\n",
       "      <td>121.3901</td>\n",
       "      <td>301.9</td>\n",
       "      <td>1.9</td>\n",
       "      <td>1.4</td>\n",
       "      <td>2023-12-31</td>\n",
       "      <td>1814</td>\n",
       "      <td>Aqua</td>\n",
       "      <td>MODIS</td>\n",
       "      <td>38</td>\n",
       "      <td>61.03</td>\n",
       "      <td>272.9</td>\n",
       "      <td>19.2</td>\n",
       "      <td>N</td>\n",
       "      <td>2</td>\n",
       "    </tr>\n",
       "  </tbody>\n",
       "</table>\n",
       "<p>1490972 rows × 15 columns</p>\n",
       "</div>"
      ],
      "text/plain": [
       "         latitude  longitude  brightness  scan  track   acq_date  acq_time satellite instrument  confidence  version  bright_t31   frp daynight  type\n",
       "0         -4.0082   121.7859       312.0   2.3    1.5 2001-01-01       258     Terra      MODIS          57     6.03       291.7  22.9        D     0\n",
       "1         -8.1135   112.9281       359.1   1.1    1.0 2001-01-01       259     Terra      MODIS          99     6.03       310.8  84.3        D     1\n",
       "2         -8.4164   117.5434       320.0   1.3    1.1 2001-01-01       259     Terra      MODIS          39     6.03       305.8  13.1        D     0\n",
       "3         -8.1127   112.9221       309.8   1.0    1.0 2001-01-01      1516     Terra      MODIS          78     6.03       276.7  13.3        N     1\n",
       "4         -6.9726   107.6152       314.3   1.4    1.2 2001-01-02       342     Terra      MODIS          62     6.03       284.7  11.4        D     2\n",
       "...           ...        ...         ...   ...    ...        ...       ...       ...        ...         ...      ...         ...   ...      ...   ...\n",
       "1490967   -3.9057   122.4212       315.8   1.0    1.0 2023-12-31      1352     Terra      MODIS          92    61.03       294.0  11.7        N     2\n",
       "1490968   -3.8727   122.3917       309.5   1.0    1.0 2023-12-31      1352     Terra      MODIS          78    61.03       294.2   6.9        N     2\n",
       "1490969    0.5582   123.9556       306.5   1.3    1.1 2023-12-31      1353     Terra      MODIS          68    61.03       292.0   8.5        N     0\n",
       "1490970    0.6945   117.5580       308.2   1.0    1.0 2023-12-31      1813      Aqua      MODIS          74    61.03       286.7   7.4        N     0\n",
       "1490971   -2.5734   121.3901       301.9   1.9    1.4 2023-12-31      1814      Aqua      MODIS          38    61.03       272.9  19.2        N     2\n",
       "\n",
       "[1490972 rows x 15 columns]"
      ]
     },
     "execution_count": 10,
     "metadata": {},
     "output_type": "execute_result"
    }
   ],
   "source": [
    "df_hotspot"
   ]
  },
  {
   "cell_type": "code",
   "execution_count": 11,
   "metadata": {},
   "outputs": [
    {
     "data": {
      "text/html": [
       "<div>\n",
       "<style scoped>\n",
       "    .dataframe tbody tr th:only-of-type {\n",
       "        vertical-align: middle;\n",
       "    }\n",
       "\n",
       "    .dataframe tbody tr th {\n",
       "        vertical-align: top;\n",
       "    }\n",
       "\n",
       "    .dataframe thead th {\n",
       "        text-align: right;\n",
       "    }\n",
       "</style>\n",
       "<table border=\"1\" class=\"dataframe\">\n",
       "  <thead>\n",
       "    <tr style=\"text-align: right;\">\n",
       "      <th></th>\n",
       "      <th>acq_date</th>\n",
       "      <th>hotspot</th>\n",
       "    </tr>\n",
       "  </thead>\n",
       "  <tbody>\n",
       "    <tr>\n",
       "      <th>8301</th>\n",
       "      <td>2023-12-27</td>\n",
       "      <td>34</td>\n",
       "    </tr>\n",
       "    <tr>\n",
       "      <th>8302</th>\n",
       "      <td>2023-12-28</td>\n",
       "      <td>32</td>\n",
       "    </tr>\n",
       "    <tr>\n",
       "      <th>8303</th>\n",
       "      <td>2023-12-29</td>\n",
       "      <td>44</td>\n",
       "    </tr>\n",
       "    <tr>\n",
       "      <th>8304</th>\n",
       "      <td>2023-12-30</td>\n",
       "      <td>17</td>\n",
       "    </tr>\n",
       "    <tr>\n",
       "      <th>8305</th>\n",
       "      <td>2023-12-31</td>\n",
       "      <td>25</td>\n",
       "    </tr>\n",
       "  </tbody>\n",
       "</table>\n",
       "</div>"
      ],
      "text/plain": [
       "       acq_date  hotspot\n",
       "8301 2023-12-27       34\n",
       "8302 2023-12-28       32\n",
       "8303 2023-12-29       44\n",
       "8304 2023-12-30       17\n",
       "8305 2023-12-31       25"
      ]
     },
     "execution_count": 11,
     "metadata": {},
     "output_type": "execute_result"
    }
   ],
   "source": [
    "dataset.tail()"
   ]
  },
  {
   "cell_type": "code",
   "execution_count": 12,
   "metadata": {},
   "outputs": [
    {
     "data": {
      "text/plain": [
       "1490972"
      ]
     },
     "execution_count": 12,
     "metadata": {},
     "output_type": "execute_result"
    }
   ],
   "source": [
    "dataset[\"hotspot\"].sum()"
   ]
  },
  {
   "cell_type": "code",
   "execution_count": null,
   "metadata": {},
   "outputs": [],
   "source": []
  },
  {
   "cell_type": "code",
   "execution_count": null,
   "metadata": {},
   "outputs": [],
   "source": []
  }
 ],
 "metadata": {
  "kernelspec": {
   "display_name": "base",
   "language": "python",
   "name": "python3"
  },
  "language_info": {
   "codemirror_mode": {
    "name": "ipython",
    "version": 3
   },
   "file_extension": ".py",
   "mimetype": "text/x-python",
   "name": "python",
   "nbconvert_exporter": "python",
   "pygments_lexer": "ipython3",
   "version": "3.11.7"
  }
 },
 "nbformat": 4,
 "nbformat_minor": 2
}
