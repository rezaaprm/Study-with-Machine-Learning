{
 "cells": [
  {
   "cell_type": "markdown",
   "metadata": {},
   "source": [
    "## Preprocessing Data of ENSO"
   ]
  },
  {
   "cell_type": "code",
   "execution_count": 1,
   "metadata": {},
   "outputs": [],
   "source": [
    "# Main Lib\n",
    "import pandas as pd \n",
    "import numpy as np \n",
    "\n",
    "pd.set_option('display.width', 1000)\n",
    "pd.set_option('display.max_columns', 1000)\n",
    "\n",
    "import matplotlib.pyplot as plt \n",
    "import seaborn as sns\n",
    "import plotly.express as px "
   ]
  },
  {
   "cell_type": "markdown",
   "metadata": {},
   "source": [
    "### Step 1. Read Dataset"
   ]
  },
  {
   "cell_type": "markdown",
   "metadata": {},
   "source": [
    "- Read Hotspot"
   ]
  },
  {
   "cell_type": "code",
   "execution_count": 2,
   "metadata": {},
   "outputs": [
    {
     "name": "stdout",
     "output_type": "stream",
     "text": [
      "      acq_date  hotspot\n",
      "0   2001-01-31       27\n",
      "1   2001-02-28       24\n",
      "2   2001-03-31       29\n",
      "3   2001-04-30       30\n",
      "4   2001-05-31       31\n",
      "..         ...      ...\n",
      "271 2023-08-31       31\n",
      "272 2023-09-30       30\n",
      "273 2023-10-31       31\n",
      "274 2023-11-30       30\n",
      "275 2023-12-31       31\n",
      "\n",
      "[276 rows x 2 columns]\n"
     ]
    }
   ],
   "source": [
    "df_hotspot = pd.read_csv(\"../Dataset/Hotspot_Monthly.csv\", parse_dates=[\"acq_date\"])\n",
    "print(df_hotspot)"
   ]
  },
  {
   "cell_type": "markdown",
   "metadata": {},
   "source": [
    "- Read ENSO"
   ]
  },
  {
   "cell_type": "code",
   "execution_count": 3,
   "metadata": {},
   "outputs": [
    {
     "name": "stdout",
     "output_type": "stream",
     "text": [
      "      acq_date  sst_std  sst_anom  oni_std  oni_anom  soi_std  soi_anom\n",
      "0   2001-01-31    25.81     -0.76    25.88     -0.68      1.0       1.6\n",
      "1   2001-02-28    26.18     -0.56    26.26     -0.52      1.7       2.8\n",
      "2   2001-03-31    26.86     -0.37    26.76     -0.44      0.9       1.5\n",
      "3   2001-04-30    27.24     -0.56    27.25     -0.34      0.2       0.3\n",
      "4   2001-05-31    27.42     -0.46    27.49     -0.25     -0.5      -0.8\n",
      "..         ...      ...       ...      ...       ...      ...       ...\n",
      "271 2023-08-31    28.20      1.30    28.28      1.32     -0.8      -1.4\n",
      "272 2023-09-30    28.29      1.53    28.32      1.56     -1.3      -2.1\n",
      "273 2023-10-31    28.36      1.59    28.49      1.78     -0.5      -0.8\n",
      "274 2023-11-30    28.72      1.90    28.60      1.92     -0.8      -1.3\n",
      "275 2023-12-31    28.64      1.99    28.59      1.97     -0.2      -0.4\n",
      "\n",
      "[276 rows x 7 columns]\n"
     ]
    }
   ],
   "source": [
    "df_enso = pd.read_csv(\"../Dataset/ENSO.csv\", parse_dates=[\"acq_date\"])\n",
    "print(df_enso)"
   ]
  },
  {
   "cell_type": "markdown",
   "metadata": {},
   "source": [
    "- Combine Hotspot & ENSO"
   ]
  },
  {
   "cell_type": "code",
   "execution_count": 4,
   "metadata": {},
   "outputs": [
    {
     "name": "stdout",
     "output_type": "stream",
     "text": [
      "      acq_date  sst_std  sst_anom  oni_std  oni_anom  soi_std  soi_anom  hotspot\n",
      "0   2001-01-31    25.81     -0.76    25.88     -0.68      1.0       1.6       27\n",
      "1   2001-02-28    26.18     -0.56    26.26     -0.52      1.7       2.8       24\n",
      "2   2001-03-31    26.86     -0.37    26.76     -0.44      0.9       1.5       29\n",
      "3   2001-04-30    27.24     -0.56    27.25     -0.34      0.2       0.3       30\n",
      "4   2001-05-31    27.42     -0.46    27.49     -0.25     -0.5      -0.8       31\n",
      "..         ...      ...       ...      ...       ...      ...       ...      ...\n",
      "271 2023-08-31    28.20      1.30    28.28      1.32     -0.8      -1.4       31\n",
      "272 2023-09-30    28.29      1.53    28.32      1.56     -1.3      -2.1       30\n",
      "273 2023-10-31    28.36      1.59    28.49      1.78     -0.5      -0.8       31\n",
      "274 2023-11-30    28.72      1.90    28.60      1.92     -0.8      -1.3       30\n",
      "275 2023-12-31    28.64      1.99    28.59      1.97     -0.2      -0.4       31\n",
      "\n",
      "[276 rows x 8 columns]\n"
     ]
    }
   ],
   "source": [
    "df = pd.concat([\n",
    "    pd.DataFrame(df_enso),\n",
    "    pd.DataFrame(np.array(df_hotspot[\"hotspot\"]), columns=[\"hotspot\"])\n",
    "], axis=1)\n",
    "print(df)"
   ]
  },
  {
   "cell_type": "code",
   "execution_count": 5,
   "metadata": {},
   "outputs": [],
   "source": [
    "df.to_csv(\"../Dataset/Hotspot_Final.csv\", index=False)"
   ]
  }
 ],
 "metadata": {
  "kernelspec": {
   "display_name": "base",
   "language": "python",
   "name": "python3"
  },
  "language_info": {
   "codemirror_mode": {
    "name": "ipython",
    "version": 3
   },
   "file_extension": ".py",
   "mimetype": "text/x-python",
   "name": "python",
   "nbconvert_exporter": "python",
   "pygments_lexer": "ipython3",
   "version": "3.11.7"
  }
 },
 "nbformat": 4,
 "nbformat_minor": 2
}
