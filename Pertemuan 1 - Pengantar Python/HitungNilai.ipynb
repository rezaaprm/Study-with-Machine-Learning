{
 "cells": [
  {
   "cell_type": "code",
   "execution_count": 1,
   "metadata": {},
   "outputs": [],
   "source": [
    "import pandas as pd\n",
    "import numpy as np\n",
    "import matplotlib.pyplot as plt"
   ]
  },
  {
   "cell_type": "markdown",
   "metadata": {},
   "source": [
    "### Input program"
   ]
  },
  {
   "cell_type": "code",
   "execution_count": 2,
   "metadata": {},
   "outputs": [
    {
     "name": "stdout",
     "output_type": "stream",
     "text": [
      "<class 'pandas.core.frame.DataFrame'>\n",
      "RangeIndex: 500 entries, 0 to 499\n",
      "Data columns (total 4 columns):\n",
      " #   Column    Non-Null Count  Dtype\n",
      "---  ------    --------------  -----\n",
      " 0   nim       500 non-null    int64\n",
      " 1   formatif  500 non-null    int64\n",
      " 2   uts       500 non-null    int64\n",
      " 3   uas       500 non-null    int64\n",
      "dtypes: int64(4)\n",
      "memory usage: 15.8 KB\n",
      "None\n"
     ]
    }
   ],
   "source": [
    "dataset = pd.read_csv('../Dataset/dummy_hitung_nilai_input.csv')\n",
    "print(dataset.info())"
   ]
  },
  {
   "cell_type": "code",
   "execution_count": 3,
   "metadata": {},
   "outputs": [
    {
     "name": "stdout",
     "output_type": "stream",
     "text": [
      "            nim  formatif  uts  uas\n",
      "0    1114091001        76   60   82\n",
      "1    1114091002       100   85   52\n",
      "2    1114091003        74   93   98\n",
      "3    1114091004        70   82   93\n",
      "4    1114091005        99   71   94\n",
      "..          ...       ...  ...  ...\n",
      "495  1114091496       100  100   85\n",
      "496  1114091497        72   89   69\n",
      "497  1114091498        84   83   89\n",
      "498  1114091499        72   58   70\n",
      "499  1114091500        75  100   92\n",
      "\n",
      "[500 rows x 4 columns]\n"
     ]
    }
   ],
   "source": [
    "print(dataset)"
   ]
  },
  {
   "cell_type": "markdown",
   "metadata": {},
   "source": [
    "### Proses program"
   ]
  },
  {
   "cell_type": "code",
   "execution_count": 4,
   "metadata": {},
   "outputs": [],
   "source": [
    "dataset[\"nilai_akhir\"] = dataset[\"formatif\"] * 0.4 + dataset[\"uts\"] * 0.3 + dataset[\"uas\"] * 0.3"
   ]
  },
  {
   "cell_type": "code",
   "execution_count": 5,
   "metadata": {},
   "outputs": [],
   "source": [
    "def nilai_huruf(nilai_akhir):\n",
    "    huruf = []\n",
    "\n",
    "    for x in nilai_akhir:\n",
    "        if x >= 80:\n",
    "            huruf.append(\"A\")\n",
    "        elif x >= 70:\n",
    "            huruf.append(\"B\")\n",
    "        elif x >= 60:\n",
    "            huruf.append(\"C\")\n",
    "        elif x >= 50:\n",
    "            huruf.append(\"D\")\n",
    "        else:\n",
    "            huruf.append(\"E\")\n",
    "    return huruf"
   ]
  },
  {
   "cell_type": "code",
   "execution_count": 6,
   "metadata": {},
   "outputs": [],
   "source": [
    "# Proses menentukan nilai huruf\n",
    "nilai_huruf = nilai_huruf(np.array(dataset[\"nilai_akhir\"]))\n"
   ]
  },
  {
   "cell_type": "code",
   "execution_count": 7,
   "metadata": {},
   "outputs": [],
   "source": [
    "# Menambahkan kolom nilai huruf\n",
    "dataset[\"nilai_huruf\"] = nilai_huruf"
   ]
  },
  {
   "cell_type": "markdown",
   "metadata": {},
   "source": [
    "### Output program"
   ]
  },
  {
   "cell_type": "code",
   "execution_count": 8,
   "metadata": {},
   "outputs": [
    {
     "name": "stdout",
     "output_type": "stream",
     "text": [
      "            nim  formatif  uts  uas  nilai_akhir nilai_huruf\n",
      "0    1114091001        76   60   82         73.0           B\n",
      "1    1114091002       100   85   52         81.1           A\n",
      "2    1114091003        74   93   98         86.9           A\n",
      "3    1114091004        70   82   93         80.5           A\n",
      "4    1114091005        99   71   94         89.1           A\n",
      "..          ...       ...  ...  ...          ...         ...\n",
      "495  1114091496       100  100   85         95.5           A\n",
      "496  1114091497        72   89   69         76.2           B\n",
      "497  1114091498        84   83   89         85.2           A\n",
      "498  1114091499        72   58   70         67.2           C\n",
      "499  1114091500        75  100   92         87.6           A\n",
      "\n",
      "[500 rows x 6 columns]\n"
     ]
    }
   ],
   "source": [
    "print(dataset)"
   ]
  },
  {
   "cell_type": "code",
   "execution_count": 9,
   "metadata": {},
   "outputs": [],
   "source": [
    "dataset.to_excel(\"dummy_hitung_nilai_output.xlsx\", sheet_name = \"dummy_hitung_nilai_output\", index = False)"
   ]
  },
  {
   "cell_type": "code",
   "execution_count": 10,
   "metadata": {},
   "outputs": [],
   "source": [
    "values = dataset[\"nilai_huruf\"].value_counts().sort_index().reset_index()"
   ]
  },
  {
   "cell_type": "code",
   "execution_count": 19,
   "metadata": {},
   "outputs": [
    {
     "data": {
      "text/html": [
       "<div>\n",
       "<style scoped>\n",
       "    .dataframe tbody tr th:only-of-type {\n",
       "        vertical-align: middle;\n",
       "    }\n",
       "\n",
       "    .dataframe tbody tr th {\n",
       "        vertical-align: top;\n",
       "    }\n",
       "\n",
       "    .dataframe thead th {\n",
       "        text-align: right;\n",
       "    }\n",
       "</style>\n",
       "<table border=\"1\" class=\"dataframe\">\n",
       "  <thead>\n",
       "    <tr style=\"text-align: right;\">\n",
       "      <th></th>\n",
       "      <th>nilai_huruf</th>\n",
       "      <th>count</th>\n",
       "    </tr>\n",
       "  </thead>\n",
       "  <tbody>\n",
       "    <tr>\n",
       "      <th>0</th>\n",
       "      <td>A</td>\n",
       "      <td>229</td>\n",
       "    </tr>\n",
       "    <tr>\n",
       "      <th>1</th>\n",
       "      <td>B</td>\n",
       "      <td>211</td>\n",
       "    </tr>\n",
       "    <tr>\n",
       "      <th>2</th>\n",
       "      <td>C</td>\n",
       "      <td>60</td>\n",
       "    </tr>\n",
       "  </tbody>\n",
       "</table>\n",
       "</div>"
      ],
      "text/plain": [
       "  nilai_huruf  count\n",
       "0           A    229\n",
       "1           B    211\n",
       "2           C     60"
      ]
     },
     "execution_count": 19,
     "metadata": {},
     "output_type": "execute_result"
    }
   ],
   "source": [
    "values"
   ]
  },
  {
   "cell_type": "code",
   "execution_count": 34,
   "metadata": {},
   "outputs": [
    {
     "data": {
      "image/png": "[encoded data removed]",
      "text/plain": [
       "<Figure size 1000x500 with 1 Axes>"
      ]
     },
     "metadata": {},
     "output_type": "display_data"
    }
   ],
   "source": [
    "fig = plt.subplots(figsize = (10, 5))\n",
    "plt.bar(values[\"nilai_huruf\"], values[\"count\"], color = '#FFF111')\n",
    "plt.title(\"Bar Plot Hitung Nilai Mahasiswa\")\n",
    "plt.xlabel(\"Nilai Huruf\")\n",
    "plt.ylabel(\"Total Nilai\")\n",
    "plt.grid()\n",
    "plt.show()"
   ]
  },
  {
   "cell_type": "code",
   "execution_count": 53,
   "metadata": {},
   "outputs": [
    {
     "data": {
      "image/png": "[encoded data removed]",
      "text/plain": [
       "<Figure size 500x500 with 1 Axes>"
      ]
     },
     "metadata": {},
     "output_type": "display_data"
    }
   ],
   "source": [
    "labels = values[\"nilai_huruf\"]\n",
    "sizes = values[\"count\"]\n",
    "\n",
    "fig, ax = plt.subplots(figsize = (5, 5))\n",
    "ax.pie(sizes, labels=labels, autopct='%1.2f%%')\n",
    "\n",
    "plt.show()"
   ]
  },
  {
   "cell_type": "code",
   "execution_count": null,
   "metadata": {},
   "outputs": [],
   "source": []
  }
 ],
 "metadata": {
  "kernelspec": {
   "display_name": "base",
   "language": "python",
   "name": "python3"
  },
  "language_info": {
   "codemirror_mode": {
    "name": "ipython",
    "version": 3
   },
   "file_extension": ".py",
   "mimetype": "text/x-python",
   "name": "python",
   "nbconvert_exporter": "python",
   "pygments_lexer": "ipython3",
   "version": "3.12.4"
  }
 },
 "nbformat": 4,
 "nbformat_minor": 2
}
